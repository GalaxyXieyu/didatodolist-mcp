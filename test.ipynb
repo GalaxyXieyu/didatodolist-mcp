{
 "cells": [
  {
   "cell_type": "code",
   "execution_count": 4,
   "id": "49690fe4",
   "metadata": {},
   "outputs": [
    {
     "name": "stdout",
     "output_type": "stream",
     "text": [
      "状态码: 500\n",
      "响应内容: {\"errorId\":\"3w2y0t9v@ctw4\",\"errorCode\":\"access_forbidden\",\"errorMessage\":\"access_forbidden\",\"data\":null}\n",
      "响应头: {'Date': 'Tue, 29 Apr 2025 14:33:09 GMT', 'Content-Type': 'application/json;charset=UTF-8', 'Transfer-Encoding': 'chunked', 'Connection': 'keep-alive', 'Set-Cookie': 'AWSALB=tl6EPFmgYOgdNLHcsF8/Z3HKviMcpOxadi2QDegn5vf4YYbdJd+O5CTLeuc9wP26p3VyC9Q6xJW6kQxktGv1eyy0HDjq735rWOjj0iyA0cZmpOgxtFB+xNaJz0a3; Expires=Tue, 06 May 2025 14:33:09 GMT; Path=/, AWSALBCORS=tl6EPFmgYOgdNLHcsF8/Z3HKviMcpOxadi2QDegn5vf4YYbdJd+O5CTLeuc9wP26p3VyC9Q6xJW6kQxktGv1eyy0HDjq735rWOjj0iyA0cZmpOgxtFB+xNaJz0a3; Expires=Tue, 06 May 2025 14:33:09 GMT; Path=/; SameSite=None; Secure', 'Access-Control-Allow-Origin': 'https://dida365.com', 'Access-Control-Allow-Credentials': 'true', 'vary': 'accept-encoding', 'Content-Encoding': 'gzip'}\n",
      "Cookies: {'AWSALB': 'tl6EPFmgYOgdNLHcsF8/Z3HKviMcpOxadi2QDegn5vf4YYbdJd+O5CTLeuc9wP26p3VyC9Q6xJW6kQxktGv1eyy0HDjq735rWOjj0iyA0cZmpOgxtFB+xNaJz0a3', 'AWSALBCORS': 'tl6EPFmgYOgdNLHcsF8/Z3HKviMcpOxadi2QDegn5vf4YYbdJd+O5CTLeuc9wP26p3VyC9Q6xJW6kQxktGv1eyy0HDjq735rWOjj0iyA0cZmpOgxtFB+xNaJz0a3'}\n"
     ]
    }
   ],
   "source": [
    "import requests\n",
    "\n",
    "login_url = \"https://api.dida365.com/api/v2/user/signon?wc=true&remember=true\"\n",
    "headers = {\n",
    "    \"Content-Type\": \"application/json\",\n",
    "    \"User-Agent\": \"Mozilla/5.0 (Windows NT 10.0; Win64; x64) AppleWebKit/537.36 (KHTML, like Gecko) Chrome/135.0.0.0 Safari/537.36\",\n",
    "    \"Origin\": \"https://dida365.com\",\n",
    "    \"Referer\": \"https://dida365.com/\",\n",
    "    \"Accept\": \"*/*\",\n",
    "    \"Accept-Encoding\": \"gzip, deflate, br, zstd\",\n",
    "    \"Accept-Language\": \"zh-CN,zh;q=0.9,en-US;q=0.8,en;q=0.7\",\n",
    "    \"Sec-Ch-Ua\": \"\\\"Google Chrome\\\";v=\\\"135\\\", \\\"Not-A.Brand\\\";v=\\\"8\\\", \\\"Chromium\\\";v=\\\"135\\\"\",\n",
    "    \"Sec-Ch-Ua-Mobile\": \"?0\",\n",
    "    \"Sec-Ch-Ua-Platform\": \"\\\"Windows\\\"\",\n",
    "    \"Sec-Fetch-Dest\": \"empty\",\n",
    "    \"Sec-Fetch-Mode\": \"cors\",\n",
    "    \"Sec-Fetch-Site\": \"same-site\"\n",
    "}\n",
    "payload = {\"password\": \"Xieyu120807!!!\", \"phone\": \"13192612953\"}\n",
    "\n",
    "# 创建一个会话来保持cookie\n",
    "session = requests.Session()\n",
    "\n",
    "# 先访问主页，获取可能的初始cookie\n",
    "session.get(\"https://dida365.com/\")\n",
    "\n",
    "# 然后发送登录请求\n",
    "response = session.post(login_url, json=payload, headers=headers)\n",
    "print(f\"状态码: {response.status_code}\")\n",
    "print(f\"响应内容: {response.text}\")\n",
    "print(f\"响应头: {dict(response.headers)}\")\n",
    "print(f\"Cookies: {session.cookies.get_dict()}\")\n",
    "\n",
    "if response.status_code == 200:\n",
    "    token = response.cookies.get(\"t\")\n",
    "    if token:\n",
    "        print(f\"成功获取token: {token}\")"
   ]
  },
  {
   "cell_type": "code",
   "execution_count": null,
   "id": "a2eb4571",
   "metadata": {},
   "outputs": [],
   "source": []
  }
 ],
 "metadata": {
  "kernelspec": {
   "display_name": "report_agent",
   "language": "python",
   "name": "python3"
  },
  "language_info": {
   "codemirror_mode": {
    "name": "ipython",
    "version": 3
   },
   "file_extension": ".py",
   "mimetype": "text/x-python",
   "name": "python",
   "nbconvert_exporter": "python",
   "pygments_lexer": "ipython3",
   "version": "3.10.14"
  }
 },
 "nbformat": 4,
 "nbformat_minor": 5
}
